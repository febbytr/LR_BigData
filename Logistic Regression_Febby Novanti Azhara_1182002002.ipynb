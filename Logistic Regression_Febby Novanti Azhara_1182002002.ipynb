{
 "cells": [
  {
   "cell_type": "markdown",
   "id": "01f37cb0",
   "metadata": {},
   "source": [
    "# TUGAS BIG DATA \n",
    "Logistic Regression\n",
    "NIM : 1182002002\n",
    "Nama : Febby Novanti Azhara\n",
    "\n",
    "Sumber code : https://linuxhint.com/logistic-regression-python/\n",
    "Sumber data : https://linuxhint.com/logistic-regression-python/"
   ]
  },
  {
   "cell_type": "markdown",
   "id": "3b6ddd03",
   "metadata": {},
   "source": [
    "# Import Library"
   ]
  },
  {
   "cell_type": "code",
   "execution_count": 1,
   "id": "e7deb7cd",
   "metadata": {},
   "outputs": [],
   "source": [
    "from sklearn.model_selection import train_test_split\n",
    "from sklearn.linear_model import LogisticRegression\n",
    "from sklearn.metrics import confusion_matrix\n",
    "from sklearn.metrics import accuracy_score\n",
    "from sklearn.metrics import classification_report\n",
    "import pandas as pd\n",
    "import matplotlib.pyplot as plt\n",
    "import seaborn as sns"
   ]
  },
  {
   "cell_type": "markdown",
   "id": "4f5abaed",
   "metadata": {},
   "source": [
    "# Import Dataset"
   ]
  },
  {
   "cell_type": "code",
   "execution_count": 2,
   "id": "d7d139f4",
   "metadata": {},
   "outputs": [
    {
     "data": {
      "text/html": [
       "<div>\n",
       "<style scoped>\n",
       "    .dataframe tbody tr th:only-of-type {\n",
       "        vertical-align: middle;\n",
       "    }\n",
       "\n",
       "    .dataframe tbody tr th {\n",
       "        vertical-align: top;\n",
       "    }\n",
       "\n",
       "    .dataframe thead th {\n",
       "        text-align: right;\n",
       "    }\n",
       "</style>\n",
       "<table border=\"1\" class=\"dataframe\">\n",
       "  <thead>\n",
       "    <tr style=\"text-align: right;\">\n",
       "      <th></th>\n",
       "      <th>gre</th>\n",
       "      <th>gpa</th>\n",
       "      <th>work_experience</th>\n",
       "      <th>admitted</th>\n",
       "    </tr>\n",
       "  </thead>\n",
       "  <tbody>\n",
       "    <tr>\n",
       "      <th>0</th>\n",
       "      <td>380</td>\n",
       "      <td>3.61</td>\n",
       "      <td>3</td>\n",
       "      <td>0</td>\n",
       "    </tr>\n",
       "    <tr>\n",
       "      <th>1</th>\n",
       "      <td>660</td>\n",
       "      <td>3.67</td>\n",
       "      <td>3</td>\n",
       "      <td>1</td>\n",
       "    </tr>\n",
       "    <tr>\n",
       "      <th>2</th>\n",
       "      <td>800</td>\n",
       "      <td>4.00</td>\n",
       "      <td>1</td>\n",
       "      <td>1</td>\n",
       "    </tr>\n",
       "    <tr>\n",
       "      <th>3</th>\n",
       "      <td>640</td>\n",
       "      <td>3.19</td>\n",
       "      <td>4</td>\n",
       "      <td>1</td>\n",
       "    </tr>\n",
       "    <tr>\n",
       "      <th>4</th>\n",
       "      <td>520</td>\n",
       "      <td>2.93</td>\n",
       "      <td>4</td>\n",
       "      <td>0</td>\n",
       "    </tr>\n",
       "  </tbody>\n",
       "</table>\n",
       "</div>"
      ],
      "text/plain": [
       "   gre   gpa  work_experience  admitted\n",
       "0  380  3.61                3         0\n",
       "1  660  3.67                3         1\n",
       "2  800  4.00                1         1\n",
       "3  640  3.19                4         1\n",
       "4  520  2.93                4         0"
      ]
     },
     "execution_count": 2,
     "metadata": {},
     "output_type": "execute_result"
    }
   ],
   "source": [
    "data = pd.read_csv(\"ms_admission.csv\")\n",
    "data.head()"
   ]
  },
  {
   "cell_type": "code",
   "execution_count": 3,
   "id": "db77c8f3",
   "metadata": {},
   "outputs": [
    {
     "name": "stdout",
     "output_type": "stream",
     "text": [
      "Index(['gre', 'gpa', 'work_experience', 'admitted'], dtype='object')\n"
     ]
    }
   ],
   "source": [
    "# Mengeluarkan semua kolom yang tersedia di dataset\n",
    "print(data.columns)"
   ]
  },
  {
   "cell_type": "code",
   "execution_count": 4,
   "id": "7e6beb0c",
   "metadata": {},
   "outputs": [],
   "source": [
    "# Menetapkan variable independen x dan variable dependen y\n",
    "X = data[['gre', 'gpa','work_experience']]\n",
    "y = data['admitted']"
   ]
  },
  {
   "cell_type": "code",
   "execution_count": 5,
   "id": "f68d08c9",
   "metadata": {},
   "outputs": [
    {
     "name": "stdout",
     "output_type": "stream",
     "text": [
      "   gre   gpa  work_experience\n",
      "0  380  3.61                3\n",
      "1  660  3.67                3\n",
      "2  800  4.00                1\n",
      "3  640  3.19                4\n",
      "4  520  2.93                4\n"
     ]
    }
   ],
   "source": [
    "# Mengeluarkan 5 elemen variable x dan y teratas menggunakan head()\n",
    "print(X.head())"
   ]
  },
  {
   "cell_type": "code",
   "execution_count": 6,
   "id": "1181b5ee",
   "metadata": {},
   "outputs": [
    {
     "name": "stdout",
     "output_type": "stream",
     "text": [
      "0    0\n",
      "1    1\n",
      "2    1\n",
      "3    1\n",
      "4    0\n",
      "Name: admitted, dtype: int64\n"
     ]
    }
   ],
   "source": [
    "print(y.head())"
   ]
  },
  {
   "cell_type": "code",
   "execution_count": 7,
   "id": "9d4e0a7a",
   "metadata": {},
   "outputs": [],
   "source": [
    "# disini dataset dibagi menjadi 75% dataset untuk di test\n",
    "X_train,X_test,y_train,y_test = train_test_split(X,y,test_size=0.30,random_state=0)"
   ]
  },
  {
   "cell_type": "code",
   "execution_count": 8,
   "id": "23f32258",
   "metadata": {},
   "outputs": [],
   "source": [
    "#membuat model prediksi\n",
    "model = LogisticRegression()"
   ]
  },
  {
   "cell_type": "code",
   "execution_count": 9,
   "id": "6047c622",
   "metadata": {},
   "outputs": [
    {
     "data": {
      "text/plain": [
       "LogisticRegression()"
      ]
     },
     "execution_count": 9,
     "metadata": {},
     "output_type": "execute_result"
    }
   ],
   "source": [
    "#mencocokan model\n",
    "model.fit(X_train, y_train)"
   ]
  },
  {
   "cell_type": "markdown",
   "id": "2f7ead68",
   "metadata": {},
   "source": [
    "# Melakukan prediksi"
   ]
  },
  {
   "cell_type": "code",
   "execution_count": 10,
   "id": "c3a8cc77",
   "metadata": {},
   "outputs": [
    {
     "name": "stdout",
     "output_type": "stream",
     "text": [
      "[0 0 0 0 0 0 0 0 0 0 0 0 0 0 1 0 1 0 1 0 0 0 0 0 0 0 0 0 1 0 0 0 0 0 0 0 0\n",
      " 0 0 0 0 0 0 0 0 0 0 0 0 0 0 0 0 0 0 0 0 0 1 0 0 0 0 0 0 0 0 0 0 0 0 0 1 0\n",
      " 0 1 0 0 1 0 0 0 0 1 0 0 0 1 0 1 0 0 0 0 0 0 0 0 0 1 0 0 0 0 0 0 0 0 0 0 0\n",
      " 0 0 0 0 0 0 0 0 0]\n"
     ]
    }
   ],
   "source": [
    "# meneruskan data uji ke dalam model untuk melakukan prediksi\n",
    "y_predictions = model.predict(X_test)\n",
    "print(y_predictions)"
   ]
  },
  {
   "cell_type": "code",
   "execution_count": 11,
   "id": "e7d09cae",
   "metadata": {},
   "outputs": [
    {
     "name": "stdout",
     "output_type": "stream",
     "text": [
      "prediction: 71.66666666666667 \n",
      "              precision    recall  f1-score   support\n",
      "\n",
      "           0       0.72      0.95      0.82        82\n",
      "           1       0.67      0.21      0.32        38\n",
      "\n",
      "    accuracy                           0.72       120\n",
      "   macro avg       0.69      0.58      0.57       120\n",
      "weighted avg       0.70      0.72      0.66       120\n",
      "\n"
     ]
    }
   ],
   "source": [
    "print(\"prediction: {} \".format(accuracy_score(y_test,y_predictions) *100))\n",
    "print(classification_report(y_test, y_predictions))"
   ]
  },
  {
   "cell_type": "code",
   "execution_count": 12,
   "id": "03154fb0",
   "metadata": {},
   "outputs": [
    {
     "data": {
      "text/plain": [
       "<AxesSubplot:>"
      ]
     },
     "execution_count": 12,
     "metadata": {},
     "output_type": "execute_result"
    },
    {
     "data": {
      "image/png": "[encoded data removed]",
      "text/plain": [
       "<Figure size 432x288 with 2 Axes>"
      ]
     },
     "metadata": {
      "needs_background": "light"
     },
     "output_type": "display_data"
    }
   ],
   "source": [
    "#membuat diagram plot dengan heatmap\n",
    "confusion_matrix = confusion_matrix(y_test, y_predictions)\n",
    "sns.heatmap(confusion_matrix, annot=True, xticklabels=['not_admitted','admitted'], yticklabels=['not_admitted','admitted'])"
   ]
  },
  {
   "cell_type": "code",
   "execution_count": 13,
   "id": "bda07b4d",
   "metadata": {},
   "outputs": [
    {
     "data": {
      "text/plain": [
       "<Figure size 216x216 with 0 Axes>"
      ]
     },
     "metadata": {},
     "output_type": "display_data"
    }
   ],
   "source": [
    "plt.figure(figsize=(3,3))\n",
    "plt.show()"
   ]
  },
  {
   "cell_type": "code",
   "execution_count": 14,
   "id": "15481a4d",
   "metadata": {},
   "outputs": [
    {
     "data": {
      "text/html": [
       "<div>\n",
       "<style scoped>\n",
       "    .dataframe tbody tr th:only-of-type {\n",
       "        vertical-align: middle;\n",
       "    }\n",
       "\n",
       "    .dataframe tbody tr th {\n",
       "        vertical-align: top;\n",
       "    }\n",
       "\n",
       "    .dataframe thead th {\n",
       "        text-align: right;\n",
       "    }\n",
       "</style>\n",
       "<table border=\"1\" class=\"dataframe\">\n",
       "  <thead>\n",
       "    <tr style=\"text-align: right;\">\n",
       "      <th></th>\n",
       "      <th>gre</th>\n",
       "      <th>gpa</th>\n",
       "      <th>work_experience</th>\n",
       "    </tr>\n",
       "  </thead>\n",
       "  <tbody>\n",
       "    <tr>\n",
       "      <th>132</th>\n",
       "      <td>580</td>\n",
       "      <td>3.40</td>\n",
       "      <td>2</td>\n",
       "    </tr>\n",
       "    <tr>\n",
       "      <th>309</th>\n",
       "      <td>440</td>\n",
       "      <td>2.98</td>\n",
       "      <td>3</td>\n",
       "    </tr>\n",
       "    <tr>\n",
       "      <th>341</th>\n",
       "      <td>560</td>\n",
       "      <td>2.65</td>\n",
       "      <td>3</td>\n",
       "    </tr>\n",
       "    <tr>\n",
       "      <th>196</th>\n",
       "      <td>660</td>\n",
       "      <td>3.07</td>\n",
       "      <td>3</td>\n",
       "    </tr>\n",
       "    <tr>\n",
       "      <th>246</th>\n",
       "      <td>680</td>\n",
       "      <td>3.34</td>\n",
       "      <td>2</td>\n",
       "    </tr>\n",
       "  </tbody>\n",
       "</table>\n",
       "</div>"
      ],
      "text/plain": [
       "     gre   gpa  work_experience\n",
       "132  580  3.40                2\n",
       "309  440  2.98                3\n",
       "341  560  2.65                3\n",
       "196  660  3.07                3\n",
       "246  680  3.34                2"
      ]
     },
     "execution_count": 14,
     "metadata": {},
     "output_type": "execute_result"
    }
   ],
   "source": [
    "#mencetak 5 elemen teratas dari X_test (independent variable)\n",
    "X_test.head()"
   ]
  },
  {
   "cell_type": "code",
   "execution_count": 15,
   "id": "e5081e64",
   "metadata": {},
   "outputs": [
    {
     "data": {
      "text/plain": [
       "132    0\n",
       "309    0\n",
       "341    1\n",
       "196    0\n",
       "246    0\n",
       "Name: admitted, dtype: int64"
      ]
     },
     "execution_count": 15,
     "metadata": {},
     "output_type": "execute_result"
    }
   ],
   "source": [
    "#mencetak 5 elemen teratas dari y_test (dependent variable)\n",
    "y_test.head()"
   ]
  },
  {
   "cell_type": "code",
   "execution_count": 16,
   "id": "5c30d86c",
   "metadata": {},
   "outputs": [
    {
     "data": {
      "text/plain": [
       "array([0, 0, 0, 0, 0], dtype=int64)"
      ]
     },
     "execution_count": 16,
     "metadata": {},
     "output_type": "execute_result"
    }
   ],
   "source": [
    "y_predictions[:5]"
   ]
  },
  {
   "cell_type": "markdown",
   "id": "e48b28b8",
   "metadata": {},
   "source": [
    "# Mengecek Prediksi"
   ]
  },
  {
   "cell_type": "code",
   "execution_count": 17,
   "id": "50463278",
   "metadata": {},
   "outputs": [],
   "source": [
    "newData = {'gre': [595,735,682,613,715],\n",
    " 'gpa': [2.1,4,3.4,2.4,3],\n",
    " 'work_experience': [4,4,5,2,4]\n",
    " }"
   ]
  },
  {
   "cell_type": "code",
   "execution_count": 18,
   "id": "728d7962",
   "metadata": {},
   "outputs": [
    {
     "name": "stdout",
     "output_type": "stream",
     "text": [
      "   gre  gpa  work_experience\n",
      "0  595  2.1                4\n",
      "1  735  4.0                4\n",
      "2  682  3.4                5\n",
      "3  613  2.4                2\n",
      "4  715  3.0                4\n"
     ]
    }
   ],
   "source": [
    "test_data = pd.DataFrame(newData,columns= ['gre', 'gpa','work_experience'])\n",
    "print(test_data)"
   ]
  },
  {
   "cell_type": "code",
   "execution_count": 19,
   "id": "9405f8e7",
   "metadata": {},
   "outputs": [],
   "source": [
    "y_pred = model.predict(test_data)"
   ]
  },
  {
   "cell_type": "code",
   "execution_count": 20,
   "id": "79c2edfe",
   "metadata": {},
   "outputs": [
    {
     "data": {
      "text/plain": [
       "array([0, 0, 0, 0, 0], dtype=int64)"
      ]
     },
     "execution_count": 20,
     "metadata": {},
     "output_type": "execute_result"
    }
   ],
   "source": [
    "y_pred"
   ]
  }
 ],
 "metadata": {
  "kernelspec": {
   "display_name": "Python 3",
   "language": "python",
   "name": "python3"
  },
  "language_info": {
   "codemirror_mode": {
    "name": "ipython",
    "version": 3
   },
   "file_extension": ".py",
   "mimetype": "text/x-python",
   "name": "python",
   "nbconvert_exporter": "python",
   "pygments_lexer": "ipython3",
   "version": "3.9.4"
  }
 },
 "nbformat": 4,
 "nbformat_minor": 5
}
